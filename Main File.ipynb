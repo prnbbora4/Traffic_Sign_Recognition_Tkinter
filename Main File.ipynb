{
 "cells": [
  {
   "cell_type": "markdown",
   "metadata": {},
   "source": [
    "# Traffic Sign Recognition"
   ]
  },
  {
   "cell_type": "markdown",
   "metadata": {},
   "source": [
    "## Import Libraries"
   ]
  },
  {
   "cell_type": "code",
   "execution_count": 54,
   "metadata": {},
   "outputs": [],
   "source": [
    "import numpy as np \n",
    "from numpy import random\n",
    "import pandas as pd \n",
    "import matplotlib.pyplot as plt\n",
    "import cv2\n",
    "import tensorflow as tf\n",
    "from PIL import Image\n",
    "import os\n",
    "from sklearn.model_selection import train_test_split\n",
    "from keras.utils import to_categorical\n",
    "from keras.models import Sequential, load_model\n",
    "from keras.layers import Conv2D, MaxPool2D, Dense, Flatten, Dropout, MaxPooling2D"
   ]
  },
  {
   "cell_type": "code",
   "execution_count": 55,
   "metadata": {},
   "outputs": [],
   "source": [
    "data = []\n",
    "labels = []\n",
    "\n",
    "cur_path = os.getcwd()\n",
    "myList = os.listdir(cur_path+'\\\\train')\n",
    "classes = len(myList)"
   ]
  },
  {
   "cell_type": "markdown",
   "metadata": {},
   "source": [
    "## Loading Images to train"
   ]
  },
  {
   "cell_type": "code",
   "execution_count": 56,
   "metadata": {},
   "outputs": [
    {
     "name": "stdout",
     "output_type": "stream",
     "text": [
      "Detected  43  classes\n",
      "Importing classes...\n",
      "0 1 2 3 4 5 6 7 8 9 10 11 12 13 14 15 16 17 18 19 20 21 22 23 24 25 26 27 28 29 30 31 32 33 34 35 36 37 38 39 40 41 42 "
     ]
    }
   ],
   "source": [
    "print(\"Detected \",classes,\" classes\")\n",
    "print(\"Importing classes...\")\n",
    "for i in range(classes):\n",
    "    print(i, end =\" \")\n",
    "    path = os.path.join(cur_path,'train',str(i))\n",
    "    images = os.listdir(path)\n",
    "\n",
    "    for a in images:\n",
    "        try:\n",
    "            image = Image.open(path + '\\\\'+ a)\n",
    "            image = image.resize((30,30))\n",
    "            image = np.array(image)\n",
    "            #sim = Image.fromarray(image)\n",
    "            data.append(image)\n",
    "            labels.append(i)\n",
    "        except:\n",
    "            print(\"Error loading image\")"
   ]
  },
  {
   "cell_type": "markdown",
   "metadata": {},
   "source": [
    "## Converting lists into numpy arrays"
   ]
  },
  {
   "cell_type": "code",
   "execution_count": 57,
   "metadata": {},
   "outputs": [
    {
     "name": "stdout",
     "output_type": "stream",
     "text": [
      "(39211, 30, 30, 3) (39211,)\n"
     ]
    }
   ],
   "source": [
    "data = np.array(data)\n",
    "labels = np.array(labels)\n",
    "\n",
    "print(data.shape, labels.shape)"
   ]
  },
  {
   "cell_type": "markdown",
   "metadata": {},
   "source": [
    "## Splitting Training and testing data set"
   ]
  },
  {
   "cell_type": "code",
   "execution_count": 58,
   "metadata": {},
   "outputs": [
    {
     "name": "stdout",
     "output_type": "stream",
     "text": [
      "(31368, 30, 30, 3) (7843, 30, 30, 3) (31368,) (7843,)\n"
     ]
    }
   ],
   "source": [
    "X_train, X_test, y_train, y_test = train_test_split(data, labels, test_size=0.2, random_state=random.randint(100))\n",
    "\n",
    "print(X_train.shape, X_test.shape, y_train.shape, y_test.shape)"
   ]
  },
  {
   "cell_type": "markdown",
   "metadata": {},
   "source": [
    "## Converting the labels into one hot encoding"
   ]
  },
  {
   "cell_type": "code",
   "execution_count": 59,
   "metadata": {},
   "outputs": [],
   "source": [
    "y_train = to_categorical(y_train, classes)\n",
    "y_test = to_categorical(y_test, classes)"
   ]
  },
  {
   "cell_type": "markdown",
   "metadata": {},
   "source": [
    "## Building Model"
   ]
  },
  {
   "cell_type": "code",
   "execution_count": 60,
   "metadata": {},
   "outputs": [],
   "source": [
    "model = Sequential()\n",
    "model.add(Conv2D(filters=32, kernel_size=(5,5), activation='relu', input_shape=X_train.shape[1:]))\n",
    "model.add(Conv2D(filters=32, kernel_size=(5,5), activation='relu'))\n",
    "model.add(MaxPool2D(pool_size=(2, 2)))\n",
    "model.add(Dropout(rate=0.25))\n",
    "model.add(Conv2D(filters=64, kernel_size=(3, 3), activation='relu'))\n",
    "model.add(Conv2D(filters=64, kernel_size=(3, 3), activation='relu'))\n",
    "model.add(MaxPool2D(pool_size=(2, 2)))\n",
    "model.add(Dropout(rate=0.25))\n",
    "model.add(Flatten())\n",
    "model.add(Dense(256, activation='relu'))\n",
    "model.add(Dropout(rate=0.5))\n",
    "model.add(Dense(43, activation='softmax'))"
   ]
  },
  {
   "cell_type": "markdown",
   "metadata": {},
   "source": [
    "## Compilation of the model"
   ]
  },
  {
   "cell_type": "code",
   "execution_count": 61,
   "metadata": {},
   "outputs": [
    {
     "name": "stdout",
     "output_type": "stream",
     "text": [
      "Epoch 1/30\n",
      "1961/1961 [==============================] - 67s 34ms/step - loss: 3.4746 - accuracy: 0.2793 - val_loss: 0.6080 - val_accuracy: 0.8193\n",
      "Epoch 2/30\n",
      "1961/1961 [==============================] - 67s 34ms/step - loss: 0.9633 - accuracy: 0.7125 - val_loss: 0.2919 - val_accuracy: 0.9120\n",
      "Epoch 3/30\n",
      "1961/1961 [==============================] - 68s 35ms/step - loss: 0.5761 - accuracy: 0.8279 - val_loss: 0.1855 - val_accuracy: 0.9472\n",
      "Epoch 4/30\n",
      "1961/1961 [==============================] - 69s 35ms/step - loss: 0.4457 - accuracy: 0.8683 - val_loss: 0.1976 - val_accuracy: 0.9406\n",
      "Epoch 5/30\n",
      "1961/1961 [==============================] - 69s 35ms/step - loss: 0.3752 - accuracy: 0.8911 - val_loss: 0.1683 - val_accuracy: 0.9468\n",
      "Epoch 6/30\n",
      "1961/1961 [==============================] - 69s 35ms/step - loss: 0.3724 - accuracy: 0.8950 - val_loss: 0.1064 - val_accuracy: 0.9700\n",
      "Epoch 7/30\n",
      "1961/1961 [==============================] - 69s 35ms/step - loss: 0.3372 - accuracy: 0.9021 - val_loss: 0.1548 - val_accuracy: 0.9587\n",
      "Epoch 8/30\n",
      "1961/1961 [==============================] - 69s 35ms/step - loss: 0.3550 - accuracy: 0.9019 - val_loss: 0.1055 - val_accuracy: 0.9698\n",
      "Epoch 9/30\n",
      "1961/1961 [==============================] - 70s 36ms/step - loss: 0.3363 - accuracy: 0.9095 - val_loss: 0.1033 - val_accuracy: 0.9693\n",
      "Epoch 10/30\n",
      "1961/1961 [==============================] - 69s 35ms/step - loss: 0.3148 - accuracy: 0.9167 - val_loss: 0.1068 - val_accuracy: 0.9690\n",
      "Epoch 11/30\n",
      "1961/1961 [==============================] - 70s 36ms/step - loss: 0.3584 - accuracy: 0.9039 - val_loss: 0.1068 - val_accuracy: 0.9689\n",
      "Epoch 12/30\n",
      "1961/1961 [==============================] - 69s 35ms/step - loss: 0.3416 - accuracy: 0.9104 - val_loss: 0.0778 - val_accuracy: 0.9782\n",
      "Epoch 13/30\n",
      "1961/1961 [==============================] - 70s 36ms/step - loss: 0.3116 - accuracy: 0.9172 - val_loss: 0.0733 - val_accuracy: 0.9804\n",
      "Epoch 14/30\n",
      "1961/1961 [==============================] - 70s 36ms/step - loss: 0.3377 - accuracy: 0.9114 - val_loss: 0.0637 - val_accuracy: 0.9820\n",
      "Epoch 15/30\n",
      "1961/1961 [==============================] - 71s 36ms/step - loss: 0.3114 - accuracy: 0.9175 - val_loss: 0.0949 - val_accuracy: 0.9744\n",
      "Epoch 16/30\n",
      "1961/1961 [==============================] - 71s 36ms/step - loss: 0.3278 - accuracy: 0.9154 - val_loss: 0.0871 - val_accuracy: 0.9758\n",
      "Epoch 17/30\n",
      "1961/1961 [==============================] - 71s 36ms/step - loss: 0.2944 - accuracy: 0.9227 - val_loss: 0.0772 - val_accuracy: 0.9770\n",
      "Epoch 18/30\n",
      "1961/1961 [==============================] - 71s 36ms/step - loss: 0.3532 - accuracy: 0.9150 - val_loss: 0.0664 - val_accuracy: 0.9795\n",
      "Epoch 19/30\n",
      "1961/1961 [==============================] - 70s 36ms/step - loss: 0.3211 - accuracy: 0.9181 - val_loss: 0.1539 - val_accuracy: 0.9579\n",
      "Epoch 20/30\n",
      "1961/1961 [==============================] - 70s 36ms/step - loss: 0.3625 - accuracy: 0.9102 - val_loss: 0.1345 - val_accuracy: 0.9633\n",
      "Epoch 21/30\n",
      "1961/1961 [==============================] - 70s 36ms/step - loss: 0.3359 - accuracy: 0.9149 - val_loss: 0.0728 - val_accuracy: 0.9785\n",
      "Epoch 22/30\n",
      "1961/1961 [==============================] - 71s 36ms/step - loss: 0.3498 - accuracy: 0.9118 - val_loss: 0.1666 - val_accuracy: 0.9517\n",
      "Epoch 23/30\n",
      "1961/1961 [==============================] - 70s 36ms/step - loss: 0.3689 - accuracy: 0.9074 - val_loss: 0.1231 - val_accuracy: 0.9646\n",
      "Epoch 24/30\n",
      "1961/1961 [==============================] - 72s 37ms/step - loss: 0.3402 - accuracy: 0.9183 - val_loss: 0.0938 - val_accuracy: 0.9742\n",
      "Epoch 25/30\n",
      "1961/1961 [==============================] - 70s 36ms/step - loss: 0.3633 - accuracy: 0.9087 - val_loss: 0.1110 - val_accuracy: 0.9665\n",
      "Epoch 26/30\n",
      "1961/1961 [==============================] - 70s 36ms/step - loss: 0.4224 - accuracy: 0.8924 - val_loss: 0.1044 - val_accuracy: 0.9688\n",
      "Epoch 27/30\n",
      "1961/1961 [==============================] - 70s 36ms/step - loss: 0.6220 - accuracy: 0.8518 - val_loss: 0.0786 - val_accuracy: 0.9767\n",
      "Epoch 28/30\n",
      "1961/1961 [==============================] - 70s 36ms/step - loss: 0.3743 - accuracy: 0.9078 - val_loss: 0.1114 - val_accuracy: 0.9700\n",
      "Epoch 29/30\n",
      "1961/1961 [==============================] - 71s 36ms/step - loss: 0.3167 - accuracy: 0.9186 - val_loss: 0.1236 - val_accuracy: 0.9646\n",
      "Epoch 30/30\n",
      "1961/1961 [==============================] - 71s 36ms/step - loss: 0.3723 - accuracy: 0.9114 - val_loss: 0.1007 - val_accuracy: 0.9709\n"
     ]
    }
   ],
   "source": [
    "model.compile(loss='categorical_crossentropy', optimizer='adam', metrics=['accuracy'])\n",
    "\n",
    "epochs = 30\n",
    "history = model.fit(X_train, y_train, batch_size=16, epochs=epochs, validation_data=(X_test, y_test))\n",
    "#history = model.fit_generator(dataGen.flow(X_train,y_train,batch_size=batch_size_val),steps_per_epoch=steps_per_epoch_val,epochs=epochs_val,validation_data=(X_validation,y_validation),shuffle=1)\n",
    "\n",
    "model.save(\"my_model1.h5\")"
   ]
  },
  {
   "cell_type": "markdown",
   "metadata": {},
   "source": [
    "## Plotting graphs for accuracy"
   ]
  },
  {
   "cell_type": "code",
   "execution_count": 62,
   "metadata": {},
   "outputs": [
    {
     "data": {
      "image/png": "[encoded data removed]",
      "text/plain": [
       "<Figure size 432x288 with 1 Axes>"
      ]
     },
     "metadata": {
      "needs_background": "light"
     },
     "output_type": "display_data"
    },
    {
     "data": {
      "image/png": "[encoded data removed]",
      "text/plain": [
       "<Figure size 432x288 with 1 Axes>"
      ]
     },
     "metadata": {
      "needs_background": "light"
     },
     "output_type": "display_data"
    }
   ],
   "source": [
    "plt.figure(0)\n",
    "plt.plot(history.history['accuracy'], label='training accuracy')\n",
    "plt.plot(history.history['val_accuracy'], label='val accuracy')\n",
    "plt.title('Accuracy')\n",
    "plt.xlabel('epochs')\n",
    "plt.ylabel('accuracy')\n",
    "plt.legend()\n",
    "plt.show()\n",
    "\n",
    "plt.figure(1)\n",
    "plt.plot(history.history['loss'], label='training loss')\n",
    "plt.plot(history.history['val_loss'], label='val loss')\n",
    "plt.title('Loss')\n",
    "plt.xlabel('epochs')\n",
    "plt.ylabel('loss')\n",
    "plt.legend()\n",
    "plt.show()"
   ]
  },
  {
   "cell_type": "code",
   "execution_count": 63,
   "metadata": {
    "scrolled": false
   },
   "outputs": [
    {
     "name": "stdout",
     "output_type": "stream",
     "text": [
      "Model: \"sequential_4\"\n",
      "_________________________________________________________________\n",
      "Layer (type)                 Output Shape              Param #   \n",
      "=================================================================\n",
      "conv2d_16 (Conv2D)           (None, 26, 26, 32)        2432      \n",
      "_________________________________________________________________\n",
      "conv2d_17 (Conv2D)           (None, 22, 22, 32)        25632     \n",
      "_________________________________________________________________\n",
      "max_pooling2d_8 (MaxPooling2 (None, 11, 11, 32)        0         \n",
      "_________________________________________________________________\n",
      "dropout_12 (Dropout)         (None, 11, 11, 32)        0         \n",
      "_________________________________________________________________\n",
      "conv2d_18 (Conv2D)           (None, 9, 9, 64)          18496     \n",
      "_________________________________________________________________\n",
      "conv2d_19 (Conv2D)           (None, 7, 7, 64)          36928     \n",
      "_________________________________________________________________\n",
      "max_pooling2d_9 (MaxPooling2 (None, 3, 3, 64)          0         \n",
      "_________________________________________________________________\n",
      "dropout_13 (Dropout)         (None, 3, 3, 64)          0         \n",
      "_________________________________________________________________\n",
      "flatten_4 (Flatten)          (None, 576)               0         \n",
      "_________________________________________________________________\n",
      "dense_8 (Dense)              (None, 256)               147712    \n",
      "_________________________________________________________________\n",
      "dropout_14 (Dropout)         (None, 256)               0         \n",
      "_________________________________________________________________\n",
      "dense_9 (Dense)              (None, 43)                11051     \n",
      "=================================================================\n",
      "Total params: 242,251\n",
      "Trainable params: 242,251\n",
      "Non-trainable params: 0\n",
      "_________________________________________________________________\n"
     ]
    }
   ],
   "source": [
    "model.summary()"
   ]
  },
  {
   "cell_type": "markdown",
   "metadata": {},
   "source": [
    "## Testing accuracy on test dataset"
   ]
  },
  {
   "cell_type": "raw",
   "metadata": {},
   "source": [
    "from sklearn.metrics import accuracy_score\n",
    "\n",
    "y_test = pd.read_csv('Test.csv')\n",
    "\n",
    "labels = y_test[\"ClassId\"].values\n",
    "imgs = y_test[\"Path\"].values\n",
    "\n",
    "data=[]\n",
    "\n",
    "for img in imgs:\n",
    "    image = Image.open(img)\n",
    "    image = image.resize((30,30))\n",
    "    data.append(np.array(image))\n",
    "\n",
    "X_test=np.array(data)\n",
    "\n",
    "pred = model.predict_classes(X_test)"
   ]
  },
  {
   "cell_type": "markdown",
   "metadata": {},
   "source": [
    "## Accuracy with the test data"
   ]
  },
  {
   "cell_type": "raw",
   "metadata": {},
   "source": [
    "from sklearn.metrics import accuracy_score\n",
    "print(accuracy_score(labels, pred))"
   ]
  },
  {
   "cell_type": "code",
   "execution_count": null,
   "metadata": {},
   "outputs": [],
   "source": []
  }
 ],
 "metadata": {
  "kernelspec": {
   "display_name": "Python 3",
   "language": "python",
   "name": "python3"
  },
  "language_info": {
   "codemirror_mode": {
    "name": "ipython",
    "version": 3
   },
   "file_extension": ".py",
   "mimetype": "text/x-python",
   "name": "python",
   "nbconvert_exporter": "python",
   "pygments_lexer": "ipython3",
   "version": "3.8.5"
  }
 },
 "nbformat": 4,
 "nbformat_minor": 4
}
